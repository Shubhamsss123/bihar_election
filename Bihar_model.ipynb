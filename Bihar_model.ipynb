{
 "cells": [
  {
   "cell_type": "code",
   "execution_count": null,
   "metadata": {},
   "outputs": [],
   "source": [
    "import joblib"
   ]
  },
  {
   "cell_type": "code",
   "execution_count": null,
   "metadata": {},
   "outputs": [],
   "source": [
    "import pandas as pd"
   ]
  },
  {
   "cell_type": "code",
   "execution_count": null,
   "metadata": {},
   "outputs": [],
   "source": [
    "df1=pd.read_csv('/Users/user2/Desktop/Code/Bihar_model/Bihar Assembly Election - AE.csv')"
   ]
  },
  {
   "cell_type": "code",
   "execution_count": null,
   "metadata": {},
   "outputs": [
    {
     "name": "stderr",
     "output_type": "stream",
     "text": [
      "/Library/Frameworks/Python.framework/Versions/3.12/lib/python3.12/site-packages/sklearn/base.py:376: InconsistentVersionWarning: Trying to unpickle estimator LogisticRegression from version 1.3.2 when using version 1.5.1. This might lead to breaking code or invalid results. Use at your own risk. For more info please refer to:\n",
      "https://scikit-learn.org/stable/model_persistence.html#security-maintainability-limitations\n",
      "  warnings.warn(\n",
      "/Library/Frameworks/Python.framework/Versions/3.12/lib/python3.12/site-packages/sklearn/base.py:376: InconsistentVersionWarning: Trying to unpickle estimator StandardScaler from version 1.3.2 when using version 1.5.1. This might lead to breaking code or invalid results. Use at your own risk. For more info please refer to:\n",
      "https://scikit-learn.org/stable/model_persistence.html#security-maintainability-limitations\n",
      "  warnings.warn(\n"
     ]
    }
   ],
   "source": [
    "loaded_catboost_model = joblib.load('catboost_model.pkl')\n",
    "loaded_logistic_model = joblib.load('logistic_model.pkl')\n",
    "loaded_scaler = joblib.load('scaler.pkl')"
   ]
  },
  {
   "cell_type": "code",
   "execution_count": null,
   "metadata": {},
   "outputs": [
    {
     "name": "stdout",
     "output_type": "stream",
     "text": [
      "{'Predicted Normalized Votes (adjusted)': 72301, 'Prob of Loss (Win=0)': 0.683923092052698, 'Prob of Win (Win=1)': 0.316076907947302}\n"
     ]
    },
    {
     "name": "stderr",
     "output_type": "stream",
     "text": [
      "/Library/Frameworks/Python.framework/Versions/3.12/lib/python3.12/site-packages/sklearn/base.py:493: UserWarning: X does not have valid feature names, but StandardScaler was fitted with feature names\n",
      "  warnings.warn(\n"
     ]
    }
   ],
   "source": [
    "def predict_votes_and_win_prob(ac_no, party, alliance):\n",
    "    # Predict normalized votes using CatBoost\n",
    "    input_data = pd.DataFrame({\n",
    "        'AC No': [ac_no],\n",
    "        'Party': [party],\n",
    "        'Alliance': [alliance]\n",
    "    })\n",
    "    \n",
    "    # Predict normalized votes\n",
    "    predicted_normalized_votes = loaded_catboost_model.predict(input_data)\n",
    "    \n",
    "    # Factor for valid votes\n",
    "    factor = df1[(df1['AC No'] == ac_no) & (df1['Year'] == 2020)]['Valid Votes'].values[0] * 1.1\n",
    "    predicted_vote_count = round(predicted_normalized_votes[0] * factor)\n",
    "    \n",
    "    # Use the predicted normalized votes in Logistic Regression to predict win probability\n",
    "    normalized_votes_scaled = loaded_scaler.transform([[predicted_normalized_votes[0]]])\n",
    "    win_prob = loaded_logistic_model.predict_proba(normalized_votes_scaled)\n",
    "    \n",
    "    # Return both predicted normalized votes (adjusted) and win probabilities\n",
    "    return {\n",
    "        'Predicted Normalized Votes (adjusted)': predicted_vote_count,\n",
    "        'Prob of Loss (Win=0)': win_prob[0][0],\n",
    "        'Prob of Win (Win=1)': win_prob[0][1]\n",
    "    }\n",
    "\n",
    "future_ac_no = 1\n",
    "future_party = 'JD(U)'\n",
    "alliance = 'NDA'\n",
    "\n",
    "predictions = predict_votes_and_win_prob(future_ac_no, future_party, alliance)\n",
    "print(predictions)"
   ]
  }
 ],
 "metadata": {
  "language_info": {
   "name": "python"
  }
 },
 "nbformat": 4,
 "nbformat_minor": 2
}
